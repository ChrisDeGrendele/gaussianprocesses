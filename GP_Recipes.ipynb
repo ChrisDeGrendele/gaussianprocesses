{
 "cells": [
  {
   "cell_type": "markdown",
   "metadata": {},
   "source": [
    "# GP Recipes"
   ]
  },
  {
   "cell_type": "code",
   "execution_count": null,
   "metadata": {},
   "outputs": [],
   "source": []
  },
  {
   "cell_type": "code",
   "execution_count": 2,
   "metadata": {},
   "outputs": [
    {
     "data": {
      "text/plain": [
       "<matplotlib.legend.Legend at 0x7fc2b340a9a0>"
      ]
     },
     "execution_count": 2,
     "metadata": {},
     "output_type": "execute_result"
    },
    {
     "data": {
      "image/png": "[encoded data removed]",
      "text/plain": [
       "<Figure size 432x288 with 1 Axes>"
      ]
     },
     "metadata": {
      "needs_background": "light"
     },
     "output_type": "display_data"
    }
   ],
   "source": [
    "#GP from skikit learn\n",
    "\n",
    "import numpy as np\n",
    "from matplotlib import pyplot as plt\n",
    "\n",
    "from sklearn.gaussian_process import GaussianProcessRegressor\n",
    "#RBF is squared exponential\n",
    "from sklearn.gaussian_process.kernels import RBF\n",
    "\n",
    "\n",
    "#Function to predict\n",
    "def f(x):\n",
    "    return 3*x\n",
    "\n",
    "X = np.atleast_2d([1., 3., 5., 6., 7., 8.]).T\n",
    "y = f(X).ravel()\n",
    "\n",
    "\n",
    "x = np.atleast_2d(np.linspace(0, 10, 1000)).T\n",
    "\n",
    "kernel = RBF(10, (1e-2, 1e2))\n",
    "gp = GaussianProcessRegressor(kernel=kernel, n_restarts_optimizer=9)\n",
    "\n",
    "gp.fit(X, y)\n",
    "\n",
    "y_pred, sigma = gp.predict(x, return_std=True)\n",
    "\n",
    "plt.plot(x, f(x), 'r:', label=r'$f(x) = x\\,\\sin(x)$')\n",
    "plt.plot(X, y, 'r.', markersize=10, label='Observations')\n",
    "plt.plot(x, y_pred, 'b-', label='Prediction')\n",
    "plt.fill(np.concatenate([x, x[::-1]]),\n",
    "         np.concatenate([y_pred - 1.9600 * sigma,\n",
    "                        (y_pred + 1.9600 * sigma)[::-1]]),\n",
    "         alpha=.5, fc='b', ec='None', label='95% confidence interval')\n",
    "plt.xlabel('$x$')\n",
    "plt.ylabel('$f(x)$')\n",
    "plt.legend()\n",
    "\n"
   ]
  },
  {
   "cell_type": "markdown",
   "metadata": {},
   "source": [
    "---\n",
    "---\n",
    "# An implementation of https://doi.org/10.1007/s10915-017-0625-2\n",
    "\n",
    "### Interpolation:"
   ]
  },
  {
   "cell_type": "code",
   "execution_count": 18,
   "metadata": {},
   "outputs": [
    {
     "data": {
      "text/plain": [
       "0.03772964371217633"
      ]
     },
     "execution_count": 18,
     "metadata": {},
     "output_type": "execute_result"
    },
    {
     "data": {
      "image/png": "[encoded data removed]",
      "text/plain": [
       "<Figure size 432x288 with 1 Axes>"
      ]
     },
     "metadata": {
      "needs_background": "light"
     },
     "output_type": "display_data"
    }
   ],
   "source": [
    "#Here's the data we'll try to interpolate with our homemade GP\n",
    "N = 50\n",
    "x = np.linspace(0,20,N)\n",
    "y = np.sin(x)\n",
    "plt.scatter(x,y, label='training data')\n",
    "\n",
    "x_star = 5.9\n",
    "plt.scatter(x_star, np.sin(x_star), label='$x_*$')\n",
    "plt.legend();\n",
    "np.mean(y)"
   ]
  },
  {
   "cell_type": "markdown",
   "metadata": {},
   "source": [
    "$$K(\\mathbf{x}, \\mathbf{y})=K_{\\mathrm{SE}}(\\mathbf{x}, \\mathbf{y})=\\Sigma^{2} \\exp \\left[-\\frac{(\\mathbf{x}-\\mathbf{y})^{2}}{2 \\ell^{2}}\\right]$$"
   ]
  },
  {
   "cell_type": "code",
   "execution_count": 41,
   "metadata": {},
   "outputs": [],
   "source": [
    "def K_se(x,y, Σ=1, l=0.8):\n",
    "    #\n",
    "    #Hyperparameters:\n",
    "    #Σ = 1 #for simplicity\n",
    "    #l = 0.1 #shown to be optimal in FDGP paper\n",
    "    \n",
    "    return Σ**2 * np.exp(- (x-y)**2 / (2*l**2))"
   ]
  },
  {
   "cell_type": "markdown",
   "metadata": {},
   "source": [
    "$$\\bar{f}_{*}=\\mathbf{k}_{*}^{T} \\mathbf{K}^{-1} \\mathbf{f}$$\n",
    "where\n",
    "\n",
    "$$\\mathbf{f}=\\left[f\\left(\\mathbf{x}_{1}\\right), \\ldots, f\\left(\\mathbf{x}_{N}\\right)\\right]^{T}$$\n",
    "and\n",
    "$$k_{*, i}=K\\left(\\mathbf{x}_{*}, x_{i}\\right)$$\n",
    "\n",
    "so I believe\n",
    "$$\\mathbf{k}_{*}^{T} = [K\\left(\\mathbf{x}_{*}, x_{1}\\right), \\ldots, K\\left(\\mathbf{x}_{*}, x_{N}\\right)]$$\n",
    "\n",
    "$$\\mathbf{K} \\rightarrow K_{i j} \\equiv K\\left(\\mathbf{x}_{i}, \\mathbf{x}_{j}\\right)$$"
   ]
  },
  {
   "cell_type": "code",
   "execution_count": 42,
   "metadata": {},
   "outputs": [],
   "source": [
    "def f_star(x,y, x_star):\n",
    "    N = len(x)\n",
    "    #construct K\n",
    "    \n",
    "    K = np.zeros([N,N])\n",
    "    for i in range(N):\n",
    "        for j in range(N):\n",
    "            K[i,j] = K_se(x[i], x[j])\n",
    "\n",
    "    #Construct K_* and f\n",
    "    K_star = np.zeros(N)\n",
    "    f = np.zeros(N)\n",
    "    for i in range(N):\n",
    "        K_star[i] = K_se(x_star, x[i])\n",
    "        f[i] = y[i]\n",
    "        \n",
    "    \n",
    "    step1 = np.matmul(K_star, np.linalg.inv(K))\n",
    "    step2 = f.T - np.ones(N)*np.mean(y)\n",
    "    \n",
    "    f_star = np.mean(y) + np.matmul(step1, step2)\n",
    "    \n",
    "    #f_star = np.matmul(np.matmul(K_star, np.linalg.inv(K)), f.T)\n",
    "        \n",
    "    \n",
    "    return f_star\n",
    "#f_star(x,y,x_star)"
   ]
  },
  {
   "cell_type": "code",
   "execution_count": 43,
   "metadata": {},
   "outputs": [
    {
     "data": {
      "image/png": "[encoded data removed]",
      "text/plain": [
       "<Figure size 432x288 with 1 Axes>"
      ]
     },
     "metadata": {
      "needs_background": "light"
     },
     "output_type": "display_data"
    }
   ],
   "source": [
    "y_star = f_star(x,y, x_star) \n",
    "\n",
    "plt.scatter(x,y, label='training data')\n",
    "\n",
    "plt.scatter(x_star, np.sin(x_star), label='$x_*$ correct')\n",
    "plt.scatter(x_star, y_star, label='$x_*$ computed')\n",
    "\n",
    "\n",
    "plt.legend();"
   ]
  },
  {
   "cell_type": "markdown",
   "metadata": {},
   "source": [
    "# Lets try another example of interpolation with less data"
   ]
  },
  {
   "cell_type": "code",
   "execution_count": 128,
   "metadata": {},
   "outputs": [
    {
     "data": {
      "image/png": "[encoded data removed]",
      "text/plain": [
       "<Figure size 432x288 with 1 Axes>"
      ]
     },
     "metadata": {
      "needs_background": "light"
     },
     "output_type": "display_data"
    }
   ],
   "source": [
    "def f(x):\n",
    "    return x*np.sin(x)*np.cos(x)\n",
    "\n",
    "#training data\n",
    "x = np.linspace(0,2,100)\n",
    "y = f(x)\n",
    "\n",
    "#correct answer\n",
    "x_star = 1.56\n",
    "y_star_correct = f(x_star)\n",
    "\n",
    "#GP interpolation\n",
    "y_star = f_star(x,y, x_star)\n",
    "\n",
    "#plot results\n",
    "plt.scatter(x,y,marker='.',label=\"data\")\n",
    "plt.scatter(x_star, y_star_correct, label='correct answer')\n",
    "plt.scatter(x_star, y_star, label='computed answer')\n",
    "plt.legend();"
   ]
  },
  {
   "cell_type": "code",
   "execution_count": 136,
   "metadata": {},
   "outputs": [
    {
     "data": {
      "image/png": "[encoded data removed]",
      "text/plain": [
       "<Figure size 432x288 with 1 Axes>"
      ]
     },
     "metadata": {
      "needs_background": "light"
     },
     "output_type": "display_data"
    }
   ],
   "source": [
    "def f(x):\n",
    "    return x\n",
    "\n",
    "#training data\n",
    "x = np.linspace(-2,2,8)\n",
    "y = f(x)\n",
    "\n",
    "#correct answer\n",
    "x_star = 0.5\n",
    "y_star_correct = f(x_star)\n",
    "\n",
    "#GP interpolation\n",
    "y_star = f_star(x,y, x_star)\n",
    "\n",
    "#plot results\n",
    "plt.scatter(x,y,marker='.',label=\"data\")\n",
    "plt.scatter(x_star, y_star_correct, label='correct answer')\n",
    "plt.scatter(x_star, y_star, label='computed answer')\n",
    "plt.legend();"
   ]
  },
  {
   "cell_type": "markdown",
   "metadata": {},
   "source": [
    "### Reconstruction\n",
    "\n",
    "Reconstruction is where we have volume averaged integral quantities: $$\\left\\langle q_{i}\\right\\rangle=\\frac{1}{\\Delta \\mathcal{V}_{i}} \\int_{\\Delta \\mathcal{V}_{i}} q\\left(\\mathbf{x}, t^{n}\\right) d \\mathcal{V}$$ like in a finite volume method. Our task is to find  the flux at the interface of the cells. This is a change of data type. Going from volume to pointwise value.\n",
    "\n",
    "This is also seen in finite difference methods. We want to find edge values given integral quantities of cells. \n",
    "\n",
    "FVM  - Input: $\\frac{1}{\\Delta \\mathcal{V}_{i}} \\int_{\\Delta \\mathcal{V}_{i}} q\\left(\\mathbf{x}, t^{n}\\right) d \\mathcal{V}$ - Output: $q\\left(\\mathbf{x}, t^{n}\\right)$\n",
    "\n",
    "FDM - Input: $F\\left(q_{i}\\right)$ - Output: $\\hat{F}_{i+\\frac{1}{2}}$\n",
    "\n",
    "(Both require change of data type. Volume quantity to a discrete data point. \n",
    "\n",
    "Here we will modify GP interpolation to handle this \"change of data types.\"\n",
    "\n",
    "---\n",
    "Here GP reconstruction is defined. On a stensil that takes p points from behind and r points from the front.\n",
    "$$G_{k} \\equiv \\int f(\\mathbf{x}) d g_{k}(\\mathbf{x}), k=i-p, \\ldots, i+r$$\n",
    "where $$d g_{k}(\\mathbf{x}), k=i-p, \\ldots, i+r$$\n",
    "\n",
    "and \n",
    "$$d g_{k}(\\mathbf{x})=\\left\\{\\begin{array}{ll}d^{3} \\mathbf{x} \\times \\prod_{d=x, y, z} \\frac{1}{\\Delta^{(d)}} & \\text { if } \\mathbf{x} \\in I_{k} \\\\ 0 & \\text { if } \\mathbf{x} \\notin I_{k}\\end{array}\\right.$$\n",
    "\n",
    "$\\Delta^{(d)}$ is just dx, but in the directions. Theoretically, dx could be different than dy"
   ]
  },
  {
   "cell_type": "markdown",
   "metadata": {},
   "source": [
    "So, the pointwise function value $f\\left(\\mathbf{x}_{*}\\right)$ reconstructed from volume average data $G$ is given by:\n",
    "\n",
    "$$\\tilde{f}_{*}=\\bar{f}\\left(\\mathbf{x}_{*}\\right)+\\mathbf{T}_{*}^{T} \\mathbf{C}^{-1}(\\mathbf{G}-\\overline{\\mathbf{G}})$$"
   ]
  },
  {
   "cell_type": "code",
   "execution_count": null,
   "metadata": {},
   "outputs": [],
   "source": []
  },
  {
   "cell_type": "code",
   "execution_count": 130,
   "metadata": {},
   "outputs": [],
   "source": [
    "from scipy.special import erf\n",
    "from numpy import sqrt, exp, pi\n",
    "\n",
    "def getC(x_k,x_h, Δ):\n",
    "    #eq 22\n",
    "    l=0.1\n",
    "    Δkh = (x_k - x_h)/Δ\n",
    "    \n",
    "    \n",
    "    Ckh = sqrt(pi)* (l/Δ)**2 * (\n",
    "    \n",
    "    ( (Δkh + 1)/(sqrt(2)*l/Δ) * erf( (Δkh + 1)/(sqrt(2)*l/Δ) ) \n",
    "    + (Δkh - 1)/(sqrt(2)*l/Δ) * erf((Δkh - 1)/(sqrt(2)*l/Δ)) )\n",
    "    \n",
    "    + 1/sqrt(pi) * ( exp( - (Δkh + 1)**2 / (2 * (l/Δ)**2 ) ) \n",
    "    + exp( - (Δkh - 1)**2 / (2 * (l/Δ)**2 ) ) )\n",
    "    \n",
    "    -2 * ( Δkh/(sqrt(2)*l/Δ ) * erf( Δkh/(sqrt(2)*l/Δ) )\n",
    "    + 1/sqrt(pi) * exp( -Δkh**2/(2*(l/Δ)**2) ) ) )\n",
    "    \n",
    "    return Ckh\n",
    "\n",
    "\n",
    "def getT(x_χ, x_k, Δ):\n",
    "    #eq 23\n",
    "    #χ = * in paper\n",
    "    l=0.1\n",
    "    Δχk = (x_χ - x_k)/Δ\n",
    "    \n",
    "    T_χk = sqrt(pi/2) * (l/Δ) * (\n",
    "    erf( (Δχk + 0.5) / (sqrt(2)*l/Δ) )\n",
    "    - erf( (Δχk - 0.5) / (sqrt(2)*l/Δ) ) )\n",
    "    \n",
    "    return T_χk"
   ]
  },
  {
   "cell_type": "code",
   "execution_count": null,
   "metadata": {},
   "outputs": [],
   "source": []
  },
  {
   "cell_type": "markdown",
   "metadata": {},
   "source": [
    "1 D constant mean, $x_* = x_{i \\pm \\frac{1}{2}}$ eq. 20\n",
    "\n",
    "$$\\overline{\\mathbf{G}}=f_{0} \\mathbf{1}_{r+p+1} $$\n",
    "$$\\tilde{f}_{i \\pm \\frac{1}{2}}=f_{0}+\\mathbf{T}_{i \\pm \\frac{1}{2}}^{T} \\mathbf{C}^{-1}\\left(\\mathbf{G}-f_{0} \\mathbf{1}_{r+p+1}\\right)$$"
   ]
  },
  {
   "cell_type": "code",
   "execution_count": 131,
   "metadata": {},
   "outputs": [],
   "source": [
    "#1D reconstruction....\n",
    "\n",
    "def f_star_reconstruction_1d(x, y, i, p=2, r=2):\n",
    "    #i index of x[i]. We compute x[i ± 0.5]\n",
    "    #p is points below\n",
    "    #r is points above\n",
    "    #eq 20\n",
    "    \n",
    "    ################# x_i +1/2##############################\n",
    "    N = p+r+1 \n",
    "    dx = (x[-1] - x[0])/(len(x)-1)\n",
    "    f0 = np.mean(y)\n",
    "    \n",
    "    T = np.zeros(N)\n",
    "    for ii in range(i-p, i+r+1):\n",
    "        T[ii - (i-p)] = getT(x[i]+0.5*dx, x[ii], dx)\n",
    "    \n",
    "    C = np.zeros([N,N])\n",
    "    for ii in range(i-p, i+r+1):\n",
    "        for jj in range(i-p, i+r+1):\n",
    "            C[ii - (i-p), jj - (i-p)] = getT(x[ii], x[jj], dx)\n",
    "            \n",
    "    G = y[i-p-1:i+r]\n",
    "    Gbar = f0*np.ones(N)\n",
    "\n",
    "    \n",
    "    z = np.matmul(T.T, np.linalg.inv(C))\n",
    "    \n",
    "    _G = G-Gbar  \n",
    "    \n",
    "    f_x_plus_half = f0 + np.dot(z, _G)\n",
    "    \n",
    "        \n",
    "    ################# x_i - 1/2##############################\n",
    "    N = p+r+1 \n",
    "    dx = (x[-1] - x[0])/(len(x)-1)\n",
    "    f0 = np.mean(y)\n",
    "    \n",
    "    T = np.zeros(N)\n",
    "    for ii in range(i-p, i+r+1):\n",
    "        T[ii - (i-p)] = getT(x[i]-0.5*dx, x[ii], dx)\n",
    "    \n",
    "    C = np.zeros([N,N])\n",
    "    for ii in range(i-p, i+r+1):\n",
    "        for jj in range(i-p, i+r+1):\n",
    "            C[ii - (i-p), jj - (i-p)] = getT(x[ii], x[jj], dx)\n",
    "            \n",
    "    G = y[i-p-1:i+r]\n",
    "    Gbar = f0*np.ones(N)\n",
    "\n",
    "    \n",
    "    z = np.matmul(T.T, np.linalg.inv(C))\n",
    "    \n",
    "    _G = G-Gbar  \n",
    "    \n",
    "    f_x_minus_half = f0 + np.dot(z, _G)\n",
    "    \n",
    "    return f_x_plus_half, f_x_minus_half"
   ]
  },
  {
   "cell_type": "code",
   "execution_count": 134,
   "metadata": {},
   "outputs": [
    {
     "data": {
      "image/png": "[encoded data removed]",
      "text/plain": [
       "<Figure size 432x288 with 1 Axes>"
      ]
     },
     "metadata": {
      "needs_background": "light"
     },
     "output_type": "display_data"
    }
   ],
   "source": [
    "def f(x):\n",
    "    return x\n",
    "\n",
    "#training data\n",
    "x = np.linspace(-10,0,11)\n",
    "y = f(x)\n",
    "dx = (x[-1] - x[0])/(len(x)-1)\n",
    "\n",
    "x_i = 5\n",
    "x_i_plus = x[x_i] + 0.5*dx\n",
    "x_i_minus = x[x_i] - 0.5*dx\n",
    "\n",
    "#solution \n",
    "y_i_plus  = f(x_i_plus)\n",
    "y_i_minus = f(x_i_minus)\n",
    "\n",
    "#gaussian process reconstruction\n",
    "numy_i_plus, numy_i_minus = f_star_reconstruction_1d(x,y, x_i)\n",
    "\n",
    "\n",
    "#plot results\n",
    "plt.scatter(x,y,marker='.',label=\"data\")\n",
    "plt.scatter([x_i_plus, x_i_minus], [y_i_plus, y_i_minus], label='correct answer')\n",
    "plt.scatter([x_i_plus, x_i_minus], [numy_i_plus, numy_i_minus], label='computed answer')\n",
    "plt.legend();"
   ]
  },
  {
   "cell_type": "code",
   "execution_count": null,
   "metadata": {},
   "outputs": [],
   "source": []
  },
  {
   "cell_type": "code",
   "execution_count": null,
   "metadata": {},
   "outputs": [],
   "source": []
  }
 ],
 "metadata": {
  "kernelspec": {
   "display_name": "Python 3",
   "language": "python",
   "name": "python3"
  },
  "language_info": {
   "codemirror_mode": {
    "name": "ipython",
    "version": 3
   },
   "file_extension": ".py",
   "mimetype": "text/x-python",
   "name": "python",
   "nbconvert_exporter": "python",
   "pygments_lexer": "ipython3",
   "version": "3.8.0"
  }
 },
 "nbformat": 4,
 "nbformat_minor": 2
}
